{
 "cells": [
  {
   "cell_type": "code",
   "execution_count": null,
   "id": "3546882c-e3e6-49c5-9ddc-bd0fed5e714f",
   "metadata": {},
   "outputs": [],
   "source": [
    "#LIBRERIAS\n",
    "import pandas as pd\n",
    "import numpy as np\n",
    "from pandas import *\n",
    "from datetime import datetime\n",
    "from scipy.sparse import csr_matrix \n",
    "from lightfm import LightFM\n",
    "from tqdm import tqdm\n"
   ]
  },
  {
   "cell_type": "code",
   "execution_count": 8,
   "id": "d1a4cb64-f66a-486c-8413-aaa246449568",
   "metadata": {},
   "outputs": [],
   "source": [
    "#DATOS\n",
    "#Subo metadatos\n",
    "\n",
    "col_names = [\"asset_id\", \"content_id\", \"title\", \"reduced_title\", \"episode_title\", \"show_type\", \"released_year\", \"country_of_origin\", \"category\", \"keywords\", \"description\", \"reduced_desc\",\"cast_first_name\", \"credits_first_name\", \"run_time_min\", \"audience\", \"made_for_tv\", \"close_caption\", \"sex_rating\", \"violence_rating\", \"language_rating\", \"dialog_rating\", \"fv_rating\", \"pay_per_view\", \"pack_premium_1\", \"pack_premium_2\", \"create_date\", \"modify_date\", \"start_vod_date\", \"end_vod_date\"]\n",
    "metadata = pd.read_csv(\"C:/Users/Usuario/Downloads/Entrega-Final/data/metadata.csv\", sep=';', header=None, names=col_names)\n",
    " "
   ]
  },
  {
   "cell_type": "code",
   "execution_count": 9,
   "id": "36f877fa-b6eb-40a0-b1ef-2c3e90663d23",
   "metadata": {},
   "outputs": [],
   "source": [
    "#Elimino columnas que no me sirven\n",
    "#//title, episode_title, released_year, country_of_origin, keywords, description, reduced_desc, cast_first_name, credits_first_name\n",
    "\n",
    "metadata = metadata.drop(columns = [ \"title\", \"episode_title\", \"released_year\", \"country_of_origin\", \"keywords\", \"description\", \"reduced_desc\", \"cast_first_name\", \"credits_first_name\"] ,axis=1)\n",
    "metadata"
   ]
  },
  {
   "cell_type": "code",
   "execution_count": null,
   "id": "1d4274e1-c9ed-4d3c-b241-1224b58a89fc",
   "metadata": {},
   "outputs": [],
   "source": [
    "#Subo Train\n",
    "\n",
    "train= pd.read_csv(\"C:/Users/Usuario/Downloads/Entrega-Final/data/train.csv\")\n",
    "train"
   ]
  },
  {
   "cell_type": "code",
   "execution_count": null,
   "id": "9c8e921d-c07e-4188-aa04-7fca3dae72cd",
   "metadata": {},
   "outputs": [],
   "source": [
    "#Agregamos una columna para caificar\n",
    "\n",
    "train['rating'] = [1 if i ==0 else 5 for i in train['resume']] \n",
    "train"
   ]
  },
  {
   "cell_type": "code",
   "execution_count": null,
   "id": "cdf4dac0-a2ed-43dc-a6f3-856ae8d7fab5",
   "metadata": {},
   "outputs": [],
   "source": [
    "#Unifco los 2 sets  \n",
    "\n",
    "df = pd.merge(train, metadata, left_on='asset_id', right_on='asset_id', how='left')\n"
   ]
  },
  {
   "cell_type": "code",
   "execution_count": null,
   "id": "f2c81cfe-4e92-4597-af33-06d1ad22957b",
   "metadata": {},
   "outputs": [],
   "source": [
    "#Busco valores vacios y los elimino\n",
    "\n",
    "df.isna().sum()\n",
    "df = df.dropna()"
   ]
  },
  {
   "cell_type": "code",
   "execution_count": null,
   "id": "3f0c1e3a-e28f-4946-afe7-9c6b9578f350",
   "metadata": {},
   "outputs": [],
   "source": [
    "#Cambio el formato de las fechas para operar con ellas\n",
    "\n",
    "df['tunein'] = pd.to_datetime(df['tunein'], format='%Y-%m-%d %H:%M:%S')\n",
    "df['tuneout'] = pd.to_datetime(df['tuneout'], format='%Y-%m-%d %H:%M:%S')\n",
    "df['start_vod_date'] = pd.to_datetime(df['tuneout'], format='%Y-%m-%d %H:%M:%S').dt.tz_localize(None)\n",
    "df['end_vod_date'] = pd.to_datetime(df['end_vod_date'], format='%Y-%m-%dT%H:%M:%S').dt.tz_localize(None)\n",
    "df.head()"
   ]
  },
  {
   "cell_type": "code",
   "execution_count": null,
   "id": "dc9f9719-5024-4bb5-915b-e2dd983462c9",
   "metadata": {},
   "outputs": [],
   "source": [
    "#Entreno y testeo\n",
    "#Tomo los datos hasta el 1 de Marzo de 2021\n",
    "\n",
    "train = df[df['tunein'] < datetime(year=2021, month=3, day=1)].copy()\n",
    "test = df[df['tunein'] >= datetime(year=2021, month=3, day=1)].copy()\n",
    "\n",
    "train.head(3)\n",
    "test.head(3)"
   ]
  },
  {
   "cell_type": "code",
   "execution_count": null,
   "id": "94a2ed9a-c40e-405f-932e-50383e683f66",
   "metadata": {},
   "outputs": [],
   "source": [
    "#Cold start\n",
    "#Busco cuentas que etsan en TEST y no se entrenaron\n",
    "\n",
    "test[~test.account_id.isin(train.account_id.unique())].account_id.nunique()"
   ]
  },
  {
   "cell_type": "code",
   "execution_count": null,
   "id": "fcd5f172-4cd5-4ad7-a053-e72975eb5cbb",
   "metadata": {},
   "outputs": [],
   "source": [
    "#Interaccion con la Matriz\n",
    "#Construyo la matriz de interaccon con tabla dinamca de pandas\n",
    "\n",
    "interactions = train[['account_id', 'content_id', 'rating']].copy()\n",
    "interactions_matrix = pd.pivot_table(interactions, index='account_id', columns='content_id', values='rating') #pivot tables\n",
    "interactions_matrix = interactions_matrix.fillna(0) # fill na interactions_matrix\n",
    "\n",
    "interactions_matrix.head()\n",
    "interactions_matrix.shape"
   ]
  },
  {
   "cell_type": "code",
   "execution_count": null,
   "id": "8d39c9bc-bf12-4f9d-baeb-89c8168bf312",
   "metadata": {},
   "outputs": [],
   "source": [
    "#Transformo a Matriz csr\n",
    "\n",
    "interactions_matrix_csr = csr_matrix(interactions_matrix.values)\n",
    "interactions_matrix_csr"
   ]
  },
  {
   "cell_type": "code",
   "execution_count": null,
   "id": "50ba4763-b874-482c-ae71-4767878eaca6",
   "metadata": {},
   "outputs": [],
   "source": [
    "#Indice para cuentas\n",
    "\n",
    "user_ids = list(interactions_matrix.index)\n",
    "user_dict = {}\n",
    "counter = 0\n",
    "for i in user_ids:\n",
    "        user_dict[i] = counter\n",
    "        counter += 1"
   ]
  },
  {
   "cell_type": "code",
   "execution_count": null,
   "id": "a6f40a94-2e35-49b3-934d-86d299758b83",
   "metadata": {},
   "outputs": [],
   "source": [
    "#Indice paacontenido\n",
    "\n",
    "item_id = list(interactions_matrix.columns)\n",
    "item_dict = {}\n",
    "counter = 0 \n",
    "for i in item_id:\n",
    "    item_dict[i] = counter\n",
    "    counter += 1"
   ]
  },
  {
   "cell_type": "code",
   "execution_count": null,
   "id": "64be1665-03ad-40d1-a80a-012b0a74aee2",
   "metadata": {},
   "outputs": [],
   "source": [
    "#El modelo\n",
    "#Uso LFM (light fm) para entrenar nuestro modelo\n",
    "\n",
    "model = LightFM(random_state=0,\n",
    "                loss='warp',\n",
    "                learning_rate=0.03,\n",
    "                no_components=100)\n",
    "\n",
    "model = model.fit(interactions_matrix_csr,\n",
    "                  epochs=100,\n",
    "                  num_threads=16, verbose=False)"
   ]
  },
  {
   "cell_type": "code",
   "execution_count": null,
   "id": "c7282939-59f2-469c-9293-666f64ac8b76",
   "metadata": {},
   "outputs": [],
   "source": [
    "# COLD START\n",
    "#recomendar el contenido más popular\n",
    "\n",
    "train.groupby(\"content_id\", as_index=False).agg({\"account_id\":\"nunique\"})\n",
    "\n",
    "popularity_df = train.groupby(\"content_id\", as_index=False).agg({\"account_id\":\"nunique\"}).sort_values(by=\"account_id\", ascending=False)\n",
    "popularity_df.columns=[\"content_id\", \"popularity\"]\n",
    "popularity_df.head()"
   ]
  },
  {
   "cell_type": "code",
   "execution_count": null,
   "id": "c2bd1186-2d44-4a63-83e6-6d977e88826d",
   "metadata": {},
   "outputs": [],
   "source": [
    "#Top10, contenido mas populor \n",
    "\n",
    "popular_content = popularity_df.content_id.values[:10]\n",
    "popularity_df.head(10).content_id.values\n",
    "popular_content"
   ]
  },
  {
   "cell_type": "code",
   "execution_count": null,
   "id": "3270c403-48ec-4d6b-b265-bff159f8494f",
   "metadata": {},
   "outputs": [],
   "source": [
    "#Genero 20 recomendaciones para todos los usuarios (account_id)\n",
    "# Filtrar lo que el usuario vio previamete\n",
    "#Si el usauiro no esta entrenado le recomendamos los 20 mas populares\n",
    "\n",
    "recomms_dict = {\n",
    "    'account_id': [],\n",
    "    'recomms': []\n",
    "}"
   ]
  },
  {
   "cell_type": "code",
   "execution_count": null,
   "id": "160d0d4f-0a99-4bf5-8fed-4bae388d66ba",
   "metadata": {},
   "outputs": [],
   "source": [
    "#Busco la cantidad de usaurios (account_id) y la cantidad de contenido (content_id)\n",
    "\n",
    "n_users, n_items = interactions_matrix.shape\n",
    "item_ids = np.arange(n_items)"
   ]
  },
  {
   "cell_type": "code",
   "execution_count": null,
   "id": "50006957-1f52-4097-aed5-0c185107591f",
   "metadata": {},
   "outputs": [],
   "source": [
    "#Generamos recomnedaciones para cada usuario\n",
    "\n",
    "for user in tqdm(test.account_id.unique()):\n",
    "    #Cheuqeo si el usuario (account_id) está en la matriz de interacciones (interactions_matrix.index)\n",
    "    if user in list(interactions_matrix.index):\n",
    "      \n",
    "      user_x = user_dict[user]\n",
    "\n",
    "      #Genro predicciones para el usuario(account_id) x\n",
    "      preds = model.predict(user_ids=user_x, item_ids = item_ids)\n",
    "\n",
    "      #Ordeno de menor a mayor\n",
    "      scores = pd.Series(preds)\n",
    "      scores.index = interactions_matrix.columns\n",
    "      scores = list(pd.Series(scores.sort_values(ascending=False).index))[:50]\n",
    "\n",
    "      #Lista de lo que vio previamente\n",
    "      watched_contents = train[train.account_id == user].content_id.unique()\n",
    "\n",
    "      recomms = [x for x in scores if x not in watched_contents][:20]\n",
    "\n",
    "      #Almaceno las recomendaciones en el indice\n",
    "      recomms_dict['account_id'].append(user)\n",
    "      recomms_dict['recomms'].append(scores)\n",
    "    \n",
    "   \n",
    "    else:\n",
    "      recomms_dict['account_id'].append(user)\n",
    "      # We recommend popular content\n",
    "      recomms_dict['recomms'].append(popular_content)\n",
    "\n",
    "recomms_df = pd.DataFrame(recomms_dict)\n",
    "recomms_df\n"
   ]
  },
  {
   "cell_type": "code",
   "execution_count": null,
   "id": "1caa674a-ac57-48a1-81f6-1aeb5a6ad85b",
   "metadata": {},
   "outputs": [],
   "source": [
    "#Comparo las recomendaciones con lo que vieron los usuarios\n",
    "\n",
    "ideal_recomms =  test.sort_values(by=[\"account_id\", \"rating\"], ascending=False)\\\n",
    "                  .groupby([\"account_id\"], as_index=False)\\\n",
    "                  .agg({\"content_id\": \"unique\"})\\\n",
    "                  .head()\n",
    "ideal_recomms.head()"
   ]
  },
  {
   "cell_type": "code",
   "execution_count": null,
   "id": "55df366c-ea8e-4a91-ab90-c72a15a6ff87",
   "metadata": {},
   "outputs": [],
   "source": [
    "#Control MAP\n",
    "#Unir los recomendaciones\n",
    "\n",
    "df_map = ideal_recomms.merge(recomms_df, how=\"left\", left_on=\"account_id\", right_on=\"account_id\")[[\"account_id\", \"content_id\", \"recomms\"]]\n",
    "df_map.columns = [\"account_id\", \"ideal\", \"recomms\"]\n",
    "df_map.head()\n",
    "\n",
    "aps = [] \n",
    "\n",
    "for pred, label in df_map[[\"ideal\", \"recomms\"]].values:\n",
    "  n = len(pred) #Cuento los elementos recomendados)\n",
    "  arange = np.arange(n, dtype=np.int32) + 1. #Indexa en base 1\n",
    "  rel_k = np.in1d(pred[:n], label) \n",
    "  tp = np.ones(rel_k.sum(), dtype=np.int32).cumsum() \n",
    "  denom = arange[rel_k] \n",
    "  ap = (tp / denom).sum() / len(label)\n",
    "  aps.append(ap)\n",
    "\n"
   ]
  },
  {
   "cell_type": "code",
   "execution_count": null,
   "id": "dc648f91-2992-462c-a75d-236bda35e91e",
   "metadata": {},
   "outputs": [],
   "source": []
  }
 ],
 "metadata": {
  "kernelspec": {
   "display_name": "Python 3 (ipykernel)",
   "language": "python",
   "name": "python3"
  },
  "language_info": {
   "codemirror_mode": {
    "name": "ipython",
    "version": 3
   },
   "file_extension": ".py",
   "mimetype": "text/x-python",
   "name": "python",
   "nbconvert_exporter": "python",
   "pygments_lexer": "ipython3",
   "version": "3.9.12"
  }
 },
 "nbformat": 4,
 "nbformat_minor": 5
}
